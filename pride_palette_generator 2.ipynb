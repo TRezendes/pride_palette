{
 "cells": [
  {
   "cell_type": "markdown",
   "id": "ce2a1aca",
   "metadata": {},
   "source": [
    "# Pride Flag Color CSS Generator"
   ]
  },
  {
   "cell_type": "markdown",
   "id": "8ae9626a",
   "metadata": {},
   "source": [
    "## Format\n",
    "\n",
    "In general:\n",
    "```python\n",
    "flags = {flagName: {colorName1: hexCode1,colorName2: hexCode2}}\n",
    "```\n",
    "\n",
    "For example:"
   ]
  },
  {
   "cell_type": "code",
   "execution_count": null,
   "id": "a8d8d2ed",
   "metadata": {},
   "outputs": [],
   "source": [
    "flags = {\n",
    "  # 'baker':\n",
    "  #   {'red':'e40303','orange':'ff8c00','yellow*':'ffed00','green':'008026','blue':'004dff','purple':'750787'},\n",
    "  # 'progress':\n",
    "  #   {'orange':'ff8c00','yellow*':'ffed00','green':'008026','blue':'004dff','purple':'750787','white*':'ffffff','pink':'ffafc8','light-blue':'74d7ee','brown':'613915','black':'000000'},\n",
    "  # 'trans':\n",
    "  #   {'blue':'5bcefa','pink':'f5a9b8','white*':'ffffff'},\n",
    "  # 'bi':\n",
    "  #   {'pink':'d60270','purple':'9b4f96','blue':'0038a8'},\n",
    "  # 'pan':\n",
    "  #   {'pink':'ff218c','yellow*':'ffd800','blue':'21b1ff'},\n",
    "  # 'labrys':\n",
    "  #   {'violet':'792491','black':'000000','white*':'ffffff'},\n",
    "  # 'lipstick':\n",
    "  #   {'dark-pink':'a40061','dusty-pink':'b75592','pink*':'d063a6','lavender*':'e4accf','white*':'ffffff','pale-red':'c54e54','brown':'8a1e04','red':'eb1449'},\n",
    "  # 'gwen':\n",
    "  #   {'dark-orange':'d52d00','orange':'ef7627','light-orange':'ff9a56','white*':'ffffff','pink':'d162a4','dusty-pink':'b55690','dark-rose':'a30262'},\n",
    "  # 'intersex':\n",
    "  #   {'yellow*':'ffd800','violet':'7902aa'},\n",
    "  # 'ace':\n",
    "  #   {'black':'000000','grey':'a3a3a3','white*':'ffffff','purple':'800080'},\n",
    "  # 'aro':\n",
    "  #   {'green':'3da542','light-green':'a7d379','white*':'ffffff','grey':'a9a9a9','black':'000000'},\n",
    "  # 'genderfluid':\n",
    "  #   {'pink':'ff76a4','white*':'ffffff','purple':'c011d7','black':'000000','blue':'2f3cbe'},\n",
    "  # 'polysexual':\n",
    "  #   {'pink':'f714ba','green':'01d66a','blue':'1594f6'},\n",
    "  # 'genderqueer':\n",
    "  #   {'lavender':'b57edc','white*':'ffffff','green':'4a8123'},\n",
    "  # 'nonbinary':\n",
    "  #   {'yellow*':'fcf434','white*':'ffffff','purple':'9c59d1','black':'2c2c2c'}\n",
    "  #   }\n",
    "    'abrosexual':\n",
    "        {'turquoise': '46d294', 'light-turquoise*': 'a2e8c9', 'white*': 'ffffff', 'light-pink*': 'f68bb2', 'hot-pink': 'ee1766'},\n",
    "    'aroace':\n",
    "        {'orange': 'e28c00', 'yellow': 'eccd00', 'white*': 'ffffff', 'light-blue', '62aedc', 'blue': '203856'},\n",
    "    'bear':\n",
    "        {'dark-brown': '613704', 'orange': 'd46300', 'golden-yellow': 'fddC62', 'tan*': 'fde5b7', 'white': 'ffffff', 'grey': '545454', 'black': '000000'},\n",
    "    'bigender':\n",
    "        {'pink': 'c479a2', 'light-pink': 'eda5cd', 'purple': 'd6c7e8', 'white*': 'ffffff', 'light-blue': '9ac7e8', 'blue': '6d82d1'}"
   ]
  },
  {
   "cell_type": "code",
   "execution_count": null,
   "id": "263a5dde",
   "metadata": {},
   "outputs": [],
   "source": [
    "for flag in flags:\n",
    "    for color in flags[flag]:\n",
    "        colName=color.replace(' ','-')\n",
    "        if colName[-1]=='*':\n",
    "            textCol='000000'\n",
    "        else:\n",
    "            textCol='ffffff'\n",
    "        colName=colName.replace('*','')\n",
    "        colCode=flags[flag][color]\n",
    "        print(f'.pride-{flag}-{colName} {{\\n    color: #{textCol};\\n    background-color: #{colCode};\\n}}')\n",
    "        if color==list(flags[flag].keys())[-1]:\n",
    "            print('')\n",
    "    for color in flags[flag]:\n",
    "        colName=color.replace(' ','-')\n",
    "        colName=colName.replace('*','')\n",
    "        colCode=flags[flag][color]\n",
    "        print(f'.pride-{flag}-{colName}-text {{\\n    color: #{colCode};\\n}}')\n",
    "        if color==list(flags[flag].keys())[-1]:\n",
    "            print('')"
   ]
  }
 ],
 "metadata": {
  "kernelspec": {
   "display_name": "Python 3 (ipykernel)",
   "language": "python",
   "name": "python3"
  },
  "language_info": {
   "codemirror_mode": {
    "name": "ipython",
    "version": 3
   },
   "file_extension": ".py",
   "mimetype": "text/x-python",
   "name": "python",
   "nbconvert_exporter": "python",
   "pygments_lexer": "ipython3",
   "version": "3.11.4"
  }
 },
 "nbformat": 4,
 "nbformat_minor": 5
}
